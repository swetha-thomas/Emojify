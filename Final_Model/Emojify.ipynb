{
  "nbformat": 4,
  "nbformat_minor": 0,
  "metadata": {
    "accelerator": "GPU",
    "colab": {
      "name": "Emojify.ipynb",
      "provenance": [],
      "collapsed_sections": []
    },
    "kernelspec": {
      "display_name": "Python 3",
      "name": "python3"
    },
    "language_info": {
      "name": "python"
    }
  },
  "cells": [
    {
      "cell_type": "code",
      "metadata": {
        "colab": {
          "base_uri": "https://localhost:8080/"
        },
        "id": "n68Ib3TP2mBB",
        "outputId": "7f41854a-576b-4a38-89db-8befd4070a53"
      },
      "source": [
        "from google.colab import drive\n",
        "drive.mount('/content/drive') \n"
      ],
      "execution_count": null,
      "outputs": [
        {
          "output_type": "stream",
          "name": "stdout",
          "text": [
            "Mounted at /content/drive\n"
          ]
        }
      ]
    },
    {
      "cell_type": "markdown",
      "metadata": {
        "id": "N5CML54uY_x1"
      },
      "source": [
        ""
      ]
    },
    {
      "cell_type": "code",
      "metadata": {
        "colab": {
          "base_uri": "https://localhost:8080/"
        },
        "id": "pk6VHZXe5pPP",
        "outputId": "22376522-dfd4-4237-b811-af72030237b5"
      },
      "source": [
        "%cd drive/MyDrive/Emojify_dataset/"
      ],
      "execution_count": null,
      "outputs": [
        {
          "output_type": "stream",
          "name": "stdout",
          "text": [
            "/content/drive/MyDrive/Emojify_dataset\n"
          ]
        }
      ]
    },
    {
      "cell_type": "code",
      "metadata": {
        "id": "45qzOLqh3mR0"
      },
      "source": [
        "import numpy as np\n",
        "import pandas as pd\n",
        "import cv2\n",
        "import matplotlib.pyplot as plt"
      ],
      "execution_count": null,
      "outputs": []
    },
    {
      "cell_type": "code",
      "metadata": {
        "id": "4L-93yuGTy2V"
      },
      "source": [
        "import tensorflow as tf\n"
      ],
      "execution_count": null,
      "outputs": []
    },
    {
      "cell_type": "code",
      "metadata": {
        "id": "I3EoZpcTA2XK"
      },
      "source": [
        "from tensorflow import keras\n",
        "from keras.models import Sequential\n",
        "from keras.layers import Dense, Dropout, Flatten\n",
        "from keras.layers import Conv2D\n",
        "from tensorflow.keras.optimizers import Adam\n",
        "from keras.layers import MaxPooling2D, BatchNormalization\n",
        "from keras.preprocessing.image import ImageDataGenerator\n",
        "from tensorflow.keras.utils import to_categorical"
      ],
      "execution_count": null,
      "outputs": []
    },
    {
      "cell_type": "code",
      "metadata": {
        "id": "gcljRHL47YZe"
      },
      "source": [
        "data=pd.read_csv('fer2013.csv')"
      ],
      "execution_count": null,
      "outputs": []
    },
    {
      "cell_type": "code",
      "metadata": {
        "id": "Kc85QhAp66co",
        "colab": {
          "base_uri": "https://localhost:8080/",
          "height": 206
        },
        "outputId": "1777cdb7-0164-4b23-a4c4-0b125dfac347"
      },
      "source": [
        "data.head()"
      ],
      "execution_count": null,
      "outputs": [
        {
          "output_type": "execute_result",
          "data": {
            "text/plain": [
              "   emotion                                             pixels     Usage\n",
              "0        0  70 80 82 72 58 58 60 63 54 58 60 48 89 115 121...  Training\n",
              "1        0  151 150 147 155 148 133 111 140 170 174 182 15...  Training\n",
              "2        2  231 212 156 164 174 138 161 173 182 200 106 38...  Training\n",
              "3        4  24 32 36 30 32 23 19 20 30 41 21 22 32 34 21 1...  Training\n",
              "4        6  4 0 0 0 0 0 0 0 0 0 0 0 3 15 23 28 48 50 58 84...  Training"
            ],
            "text/html": [
              "\n",
              "  <div id=\"df-413f1f64-ddad-4f7b-9936-eb9fc2ca2adf\">\n",
              "    <div class=\"colab-df-container\">\n",
              "      <div>\n",
              "<style scoped>\n",
              "    .dataframe tbody tr th:only-of-type {\n",
              "        vertical-align: middle;\n",
              "    }\n",
              "\n",
              "    .dataframe tbody tr th {\n",
              "        vertical-align: top;\n",
              "    }\n",
              "\n",
              "    .dataframe thead th {\n",
              "        text-align: right;\n",
              "    }\n",
              "</style>\n",
              "<table border=\"1\" class=\"dataframe\">\n",
              "  <thead>\n",
              "    <tr style=\"text-align: right;\">\n",
              "      <th></th>\n",
              "      <th>emotion</th>\n",
              "      <th>pixels</th>\n",
              "      <th>Usage</th>\n",
              "    </tr>\n",
              "  </thead>\n",
              "  <tbody>\n",
              "    <tr>\n",
              "      <th>0</th>\n",
              "      <td>0</td>\n",
              "      <td>70 80 82 72 58 58 60 63 54 58 60 48 89 115 121...</td>\n",
              "      <td>Training</td>\n",
              "    </tr>\n",
              "    <tr>\n",
              "      <th>1</th>\n",
              "      <td>0</td>\n",
              "      <td>151 150 147 155 148 133 111 140 170 174 182 15...</td>\n",
              "      <td>Training</td>\n",
              "    </tr>\n",
              "    <tr>\n",
              "      <th>2</th>\n",
              "      <td>2</td>\n",
              "      <td>231 212 156 164 174 138 161 173 182 200 106 38...</td>\n",
              "      <td>Training</td>\n",
              "    </tr>\n",
              "    <tr>\n",
              "      <th>3</th>\n",
              "      <td>4</td>\n",
              "      <td>24 32 36 30 32 23 19 20 30 41 21 22 32 34 21 1...</td>\n",
              "      <td>Training</td>\n",
              "    </tr>\n",
              "    <tr>\n",
              "      <th>4</th>\n",
              "      <td>6</td>\n",
              "      <td>4 0 0 0 0 0 0 0 0 0 0 0 3 15 23 28 48 50 58 84...</td>\n",
              "      <td>Training</td>\n",
              "    </tr>\n",
              "  </tbody>\n",
              "</table>\n",
              "</div>\n",
              "      <button class=\"colab-df-convert\" onclick=\"convertToInteractive('df-413f1f64-ddad-4f7b-9936-eb9fc2ca2adf')\"\n",
              "              title=\"Convert this dataframe to an interactive table.\"\n",
              "              style=\"display:none;\">\n",
              "        \n",
              "  <svg xmlns=\"http://www.w3.org/2000/svg\" height=\"24px\"viewBox=\"0 0 24 24\"\n",
              "       width=\"24px\">\n",
              "    <path d=\"M0 0h24v24H0V0z\" fill=\"none\"/>\n",
              "    <path d=\"M18.56 5.44l.94 2.06.94-2.06 2.06-.94-2.06-.94-.94-2.06-.94 2.06-2.06.94zm-11 1L8.5 8.5l.94-2.06 2.06-.94-2.06-.94L8.5 2.5l-.94 2.06-2.06.94zm10 10l.94 2.06.94-2.06 2.06-.94-2.06-.94-.94-2.06-.94 2.06-2.06.94z\"/><path d=\"M17.41 7.96l-1.37-1.37c-.4-.4-.92-.59-1.43-.59-.52 0-1.04.2-1.43.59L10.3 9.45l-7.72 7.72c-.78.78-.78 2.05 0 2.83L4 21.41c.39.39.9.59 1.41.59.51 0 1.02-.2 1.41-.59l7.78-7.78 2.81-2.81c.8-.78.8-2.07 0-2.86zM5.41 20L4 18.59l7.72-7.72 1.47 1.35L5.41 20z\"/>\n",
              "  </svg>\n",
              "      </button>\n",
              "      \n",
              "  <style>\n",
              "    .colab-df-container {\n",
              "      display:flex;\n",
              "      flex-wrap:wrap;\n",
              "      gap: 12px;\n",
              "    }\n",
              "\n",
              "    .colab-df-convert {\n",
              "      background-color: #E8F0FE;\n",
              "      border: none;\n",
              "      border-radius: 50%;\n",
              "      cursor: pointer;\n",
              "      display: none;\n",
              "      fill: #1967D2;\n",
              "      height: 32px;\n",
              "      padding: 0 0 0 0;\n",
              "      width: 32px;\n",
              "    }\n",
              "\n",
              "    .colab-df-convert:hover {\n",
              "      background-color: #E2EBFA;\n",
              "      box-shadow: 0px 1px 2px rgba(60, 64, 67, 0.3), 0px 1px 3px 1px rgba(60, 64, 67, 0.15);\n",
              "      fill: #174EA6;\n",
              "    }\n",
              "\n",
              "    [theme=dark] .colab-df-convert {\n",
              "      background-color: #3B4455;\n",
              "      fill: #D2E3FC;\n",
              "    }\n",
              "\n",
              "    [theme=dark] .colab-df-convert:hover {\n",
              "      background-color: #434B5C;\n",
              "      box-shadow: 0px 1px 3px 1px rgba(0, 0, 0, 0.15);\n",
              "      filter: drop-shadow(0px 1px 2px rgba(0, 0, 0, 0.3));\n",
              "      fill: #FFFFFF;\n",
              "    }\n",
              "  </style>\n",
              "\n",
              "      <script>\n",
              "        const buttonEl =\n",
              "          document.querySelector('#df-413f1f64-ddad-4f7b-9936-eb9fc2ca2adf button.colab-df-convert');\n",
              "        buttonEl.style.display =\n",
              "          google.colab.kernel.accessAllowed ? 'block' : 'none';\n",
              "\n",
              "        async function convertToInteractive(key) {\n",
              "          const element = document.querySelector('#df-413f1f64-ddad-4f7b-9936-eb9fc2ca2adf');\n",
              "          const dataTable =\n",
              "            await google.colab.kernel.invokeFunction('convertToInteractive',\n",
              "                                                     [key], {});\n",
              "          if (!dataTable) return;\n",
              "\n",
              "          const docLinkHtml = 'Like what you see? Visit the ' +\n",
              "            '<a target=\"_blank\" href=https://colab.research.google.com/notebooks/data_table.ipynb>data table notebook</a>'\n",
              "            + ' to learn more about interactive tables.';\n",
              "          element.innerHTML = '';\n",
              "          dataTable['output_type'] = 'display_data';\n",
              "          await google.colab.output.renderOutput(dataTable, element);\n",
              "          const docLink = document.createElement('div');\n",
              "          docLink.innerHTML = docLinkHtml;\n",
              "          element.appendChild(docLink);\n",
              "        }\n",
              "      </script>\n",
              "    </div>\n",
              "  </div>\n",
              "  "
            ]
          },
          "metadata": {},
          "execution_count": 9
        }
      ]
    },
    {
      "cell_type": "code",
      "metadata": {
        "id": "75WjSm9F7daL"
      },
      "source": [
        "data.emotion.unique() #diff emotion in dataset\n",
        "label_to_text = {0:'anger', 1:'disgust', 2:'fear', 3:'happiness', 4: 'sadness', 5: 'surprise', 6: 'neutral'} "
      ],
      "execution_count": null,
      "outputs": []
    },
    {
      "cell_type": "code",
      "metadata": {
        "id": "stmTNdwn7qEw"
      },
      "source": [
        "X_train = []\n",
        "y_train = []\n",
        "X_test = []\n",
        "y_test = []\n",
        "for index, row in data.iterrows():\n",
        "    k=np.array(data.pixels.loc[index].split(' ')).reshape(48, 48, 1).astype('int')\n",
        "    if row['Usage'] == 'Training':\n",
        "        X_train.append(k)\n",
        "        y_train.append(row['emotion'])\n",
        "    elif row['Usage'] == 'PublicTest':\n",
        "        X_test.append(k)\n",
        "        y_test.append(row['emotion'])\n",
        "        \n",
        "\n",
        "X_train = np.array(X_train)\n",
        "y_train = np.array(y_train)\n",
        "X_test = np.array(X_test)\n",
        "y_test = np.array(y_test)\n",
        "\n",
        "X_train = X_train.reshape(X_train.shape[0], 48, 48, 1)\n",
        "X_test = X_test.reshape(X_test.shape[0], 48, 48, 1)\n",
        "\n",
        "y_train= to_categorical(y_train, num_classes=7)\n",
        "y_test = to_categorical(y_test, num_classes=7)"
      ],
      "execution_count": null,
      "outputs": []
    },
    {
      "cell_type": "code",
      "metadata": {
        "id": "EmPxRwby78DK",
        "colab": {
          "base_uri": "https://localhost:8080/"
        },
        "outputId": "acfb43e8-193a-4b24-eb4a-4f5d2dff62bd"
      },
      "source": [
        "type(X_train)"
      ],
      "execution_count": null,
      "outputs": [
        {
          "output_type": "execute_result",
          "data": {
            "text/plain": [
              "numpy.ndarray"
            ]
          },
          "metadata": {},
          "execution_count": 12
        }
      ]
    },
    {
      "cell_type": "code",
      "metadata": {
        "id": "kQilmcMs8IKg"
      },
      "source": [
        ""
      ],
      "execution_count": null,
      "outputs": []
    },
    {
      "cell_type": "code",
      "metadata": {
        "id": "XnP6CX2o8hrv",
        "colab": {
          "base_uri": "https://localhost:8080/"
        },
        "outputId": "f5e34e77-3212-49c4-db7b-da063b5f1b9d"
      },
      "source": [
        "print(tf.__version__)"
      ],
      "execution_count": null,
      "outputs": [
        {
          "output_type": "stream",
          "name": "stdout",
          "text": [
            "2.8.0\n"
          ]
        }
      ]
    },
    {
      "cell_type": "code",
      "metadata": {
        "id": "3vsjiRqN83MV"
      },
      "source": [
        "train_datagen = ImageDataGenerator(rescale=1./255,\n",
        "                                   shear_range=0.2,\n",
        "                                   zoom_range=0.2,\n",
        "                                   rotation_range=0.2,\n",
        "                                   horizontal_flip=True)\n",
        "val_datagen = ImageDataGenerator(rescale=1./255)\n",
        "train_datagen.fit(X_train)\n",
        "val_datagen.fit(X_test)"
      ],
      "execution_count": null,
      "outputs": []
    },
    {
      "cell_type": "code",
      "metadata": {
        "id": "IVuqmkiN9Ybv"
      },
      "source": [
        "emotion_model = Sequential()\n",
        "emotion_model.add(Conv2D(32, kernel_size=(3, 3), activation='relu', input_shape=(48,48,1)))\n",
        "emotion_model.add(Conv2D(64, kernel_size=(3, 3), activation='relu'))\n",
        "emotion_model.add(MaxPooling2D(pool_size=(2, 2)))\n",
        "emotion_model.add(Dropout(0.25))\n",
        "emotion_model.add(BatchNormalization())\n",
        "emotion_model.add(Conv2D(128, kernel_size=(3, 3), activation='relu'))\n",
        "emotion_model.add(MaxPooling2D(pool_size=(2, 2)))\n",
        "emotion_model.add(Conv2D(128, kernel_size=(3, 3), activation='relu'))\n",
        "emotion_model.add(MaxPooling2D(pool_size=(2, 2)))\n",
        "emotion_model.add(Dropout(0.25))\n",
        "emotion_model.add(BatchNormalization())\n",
        "emotion_model.add(Flatten())\n",
        "emotion_model.add(Dense(1024, activation='relu'))\n",
        "emotion_model.add(Dropout(0.5))\n",
        "emotion_model.add(Dense(512, activation='relu'))\n",
        "emotion_model.add(Dropout(0.5))\n",
        "emotion_model.add(Dense(7, activation='softmax'))"
      ],
      "execution_count": null,
      "outputs": []
    },
    {
      "cell_type": "code",
      "metadata": {
        "id": "9XPX_bq8-QhP",
        "colab": {
          "base_uri": "https://localhost:8080/"
        },
        "outputId": "0c8dfda3-f490-4edb-ab45-79882030fcac"
      },
      "source": [
        "emotion_model.summary()"
      ],
      "execution_count": null,
      "outputs": [
        {
          "output_type": "stream",
          "name": "stdout",
          "text": [
            "Model: \"sequential\"\n",
            "_________________________________________________________________\n",
            " Layer (type)                Output Shape              Param #   \n",
            "=================================================================\n",
            " conv2d (Conv2D)             (None, 46, 46, 32)        320       \n",
            "                                                                 \n",
            " conv2d_1 (Conv2D)           (None, 44, 44, 64)        18496     \n",
            "                                                                 \n",
            " max_pooling2d (MaxPooling2D  (None, 22, 22, 64)       0         \n",
            " )                                                               \n",
            "                                                                 \n",
            " dropout (Dropout)           (None, 22, 22, 64)        0         \n",
            "                                                                 \n",
            " batch_normalization (BatchN  (None, 22, 22, 64)       256       \n",
            " ormalization)                                                   \n",
            "                                                                 \n",
            " conv2d_2 (Conv2D)           (None, 20, 20, 128)       73856     \n",
            "                                                                 \n",
            " max_pooling2d_1 (MaxPooling  (None, 10, 10, 128)      0         \n",
            " 2D)                                                             \n",
            "                                                                 \n",
            " conv2d_3 (Conv2D)           (None, 8, 8, 128)         147584    \n",
            "                                                                 \n",
            " max_pooling2d_2 (MaxPooling  (None, 4, 4, 128)        0         \n",
            " 2D)                                                             \n",
            "                                                                 \n",
            " dropout_1 (Dropout)         (None, 4, 4, 128)         0         \n",
            "                                                                 \n",
            " batch_normalization_1 (Batc  (None, 4, 4, 128)        512       \n",
            " hNormalization)                                                 \n",
            "                                                                 \n",
            " flatten (Flatten)           (None, 2048)              0         \n",
            "                                                                 \n",
            " dense (Dense)               (None, 1024)              2098176   \n",
            "                                                                 \n",
            " dropout_2 (Dropout)         (None, 1024)              0         \n",
            "                                                                 \n",
            " dense_1 (Dense)             (None, 512)               524800    \n",
            "                                                                 \n",
            " dropout_3 (Dropout)         (None, 512)               0         \n",
            "                                                                 \n",
            " dense_2 (Dense)             (None, 7)                 3591      \n",
            "                                                                 \n",
            "=================================================================\n",
            "Total params: 2,867,591\n",
            "Trainable params: 2,867,207\n",
            "Non-trainable params: 384\n",
            "_________________________________________________________________\n"
          ]
        }
      ]
    },
    {
      "cell_type": "code",
      "metadata": {
        "id": "Jcmr0Q1y-UN4",
        "colab": {
          "base_uri": "https://localhost:8080/"
        },
        "outputId": "193efdd2-996a-483d-994a-f847ee46788a"
      },
      "source": [
        "emotion_model.compile(loss='categorical_crossentropy',optimizer=Adam(lr=0.0001, decay=1e-6),metrics=['accuracy'])\n",
        "emotion_model_info = emotion_model.fit(train_datagen.flow(X_train, y_train, batch_size=64),\n",
        "         validation_data=val_datagen.flow(X_test, y_test,batch_size=64), epochs=50)"
      ],
      "execution_count": null,
      "outputs": [
        {
          "output_type": "stream",
          "name": "stderr",
          "text": [
            "/usr/local/lib/python3.7/dist-packages/keras/optimizer_v2/adam.py:105: UserWarning: The `lr` argument is deprecated, use `learning_rate` instead.\n",
            "  super(Adam, self).__init__(name, **kwargs)\n"
          ]
        },
        {
          "output_type": "stream",
          "name": "stdout",
          "text": [
            "Epoch 1/50\n",
            "449/449 [==============================] - 31s 46ms/step - loss: 2.0978 - accuracy: 0.2086 - val_loss: 1.8287 - val_accuracy: 0.2494\n",
            "Epoch 2/50\n",
            "449/449 [==============================] - 20s 45ms/step - loss: 1.8339 - accuracy: 0.2437 - val_loss: 1.7604 - val_accuracy: 0.2803\n",
            "Epoch 3/50\n",
            "449/449 [==============================] - 20s 45ms/step - loss: 1.7596 - accuracy: 0.2861 - val_loss: 1.6869 - val_accuracy: 0.3441\n",
            "Epoch 4/50\n",
            "449/449 [==============================] - 20s 45ms/step - loss: 1.6985 - accuracy: 0.3250 - val_loss: 1.6109 - val_accuracy: 0.3895\n",
            "Epoch 5/50\n",
            "449/449 [==============================] - 20s 44ms/step - loss: 1.6424 - accuracy: 0.3537 - val_loss: 1.5395 - val_accuracy: 0.4224\n",
            "Epoch 6/50\n",
            "449/449 [==============================] - 20s 45ms/step - loss: 1.5971 - accuracy: 0.3729 - val_loss: 1.4770 - val_accuracy: 0.4374\n",
            "Epoch 7/50\n",
            "449/449 [==============================] - 20s 45ms/step - loss: 1.5513 - accuracy: 0.3922 - val_loss: 1.4191 - val_accuracy: 0.4522\n",
            "Epoch 8/50\n",
            "449/449 [==============================] - 20s 45ms/step - loss: 1.5152 - accuracy: 0.4118 - val_loss: 1.3855 - val_accuracy: 0.4698\n",
            "Epoch 9/50\n",
            "449/449 [==============================] - 20s 45ms/step - loss: 1.4722 - accuracy: 0.4296 - val_loss: 1.3530 - val_accuracy: 0.4851\n",
            "Epoch 10/50\n",
            "449/449 [==============================] - 20s 45ms/step - loss: 1.4355 - accuracy: 0.4426 - val_loss: 1.3413 - val_accuracy: 0.4851\n",
            "Epoch 11/50\n",
            "449/449 [==============================] - 20s 44ms/step - loss: 1.4036 - accuracy: 0.4601 - val_loss: 1.3225 - val_accuracy: 0.5054\n",
            "Epoch 12/50\n",
            "449/449 [==============================] - 20s 45ms/step - loss: 1.3802 - accuracy: 0.4688 - val_loss: 1.2746 - val_accuracy: 0.5116\n",
            "Epoch 13/50\n",
            "449/449 [==============================] - 20s 44ms/step - loss: 1.3476 - accuracy: 0.4831 - val_loss: 1.2437 - val_accuracy: 0.5208\n",
            "Epoch 14/50\n",
            "449/449 [==============================] - 20s 45ms/step - loss: 1.3307 - accuracy: 0.4901 - val_loss: 1.2351 - val_accuracy: 0.5305\n",
            "Epoch 15/50\n",
            "449/449 [==============================] - 20s 44ms/step - loss: 1.3118 - accuracy: 0.4976 - val_loss: 1.2997 - val_accuracy: 0.5104\n",
            "Epoch 16/50\n",
            "449/449 [==============================] - 20s 45ms/step - loss: 1.2913 - accuracy: 0.5061 - val_loss: 1.2417 - val_accuracy: 0.5247\n",
            "Epoch 17/50\n",
            "449/449 [==============================] - 20s 45ms/step - loss: 1.2706 - accuracy: 0.5144 - val_loss: 1.1775 - val_accuracy: 0.5469\n",
            "Epoch 18/50\n",
            "449/449 [==============================] - 20s 45ms/step - loss: 1.2570 - accuracy: 0.5191 - val_loss: 1.1947 - val_accuracy: 0.5573\n",
            "Epoch 19/50\n",
            "449/449 [==============================] - 20s 45ms/step - loss: 1.2427 - accuracy: 0.5254 - val_loss: 1.1549 - val_accuracy: 0.5645\n",
            "Epoch 20/50\n",
            "449/449 [==============================] - 20s 44ms/step - loss: 1.2340 - accuracy: 0.5315 - val_loss: 1.1502 - val_accuracy: 0.5656\n",
            "Epoch 21/50\n",
            "449/449 [==============================] - 20s 44ms/step - loss: 1.2204 - accuracy: 0.5359 - val_loss: 1.1448 - val_accuracy: 0.5612\n",
            "Epoch 22/50\n",
            "449/449 [==============================] - 20s 44ms/step - loss: 1.2063 - accuracy: 0.5423 - val_loss: 1.1518 - val_accuracy: 0.5589\n",
            "Epoch 23/50\n",
            "449/449 [==============================] - 20s 45ms/step - loss: 1.1973 - accuracy: 0.5432 - val_loss: 1.1255 - val_accuracy: 0.5782\n",
            "Epoch 24/50\n",
            "449/449 [==============================] - 20s 44ms/step - loss: 1.1907 - accuracy: 0.5450 - val_loss: 1.1304 - val_accuracy: 0.5787\n",
            "Epoch 25/50\n",
            "449/449 [==============================] - 20s 45ms/step - loss: 1.1806 - accuracy: 0.5530 - val_loss: 1.1176 - val_accuracy: 0.5692\n",
            "Epoch 26/50\n",
            "449/449 [==============================] - 20s 44ms/step - loss: 1.1693 - accuracy: 0.5573 - val_loss: 1.1087 - val_accuracy: 0.5896\n",
            "Epoch 27/50\n",
            "449/449 [==============================] - 20s 45ms/step - loss: 1.1656 - accuracy: 0.5562 - val_loss: 1.1417 - val_accuracy: 0.5784\n",
            "Epoch 28/50\n",
            "449/449 [==============================] - 20s 45ms/step - loss: 1.1470 - accuracy: 0.5629 - val_loss: 1.0961 - val_accuracy: 0.5857\n",
            "Epoch 29/50\n",
            "449/449 [==============================] - 20s 45ms/step - loss: 1.1398 - accuracy: 0.5672 - val_loss: 1.0770 - val_accuracy: 0.5965\n",
            "Epoch 30/50\n",
            "449/449 [==============================] - 20s 45ms/step - loss: 1.1316 - accuracy: 0.5708 - val_loss: 1.0745 - val_accuracy: 0.5926\n",
            "Epoch 31/50\n",
            "449/449 [==============================] - 20s 45ms/step - loss: 1.1292 - accuracy: 0.5734 - val_loss: 1.0740 - val_accuracy: 0.5963\n",
            "Epoch 32/50\n",
            "449/449 [==============================] - 20s 45ms/step - loss: 1.1184 - accuracy: 0.5774 - val_loss: 1.0779 - val_accuracy: 0.5988\n",
            "Epoch 33/50\n",
            "449/449 [==============================] - 20s 45ms/step - loss: 1.1053 - accuracy: 0.5811 - val_loss: 1.0903 - val_accuracy: 0.5938\n",
            "Epoch 34/50\n",
            "449/449 [==============================] - 20s 45ms/step - loss: 1.1008 - accuracy: 0.5807 - val_loss: 1.0948 - val_accuracy: 0.5971\n",
            "Epoch 35/50\n",
            "449/449 [==============================] - 20s 45ms/step - loss: 1.0964 - accuracy: 0.5826 - val_loss: 1.0659 - val_accuracy: 0.6004\n",
            "Epoch 36/50\n",
            "449/449 [==============================] - 20s 45ms/step - loss: 1.0868 - accuracy: 0.5902 - val_loss: 1.0588 - val_accuracy: 0.6102\n",
            "Epoch 37/50\n",
            "449/449 [==============================] - 20s 44ms/step - loss: 1.0858 - accuracy: 0.5911 - val_loss: 1.0661 - val_accuracy: 0.5968\n",
            "Epoch 38/50\n",
            "449/449 [==============================] - 20s 44ms/step - loss: 1.0785 - accuracy: 0.5891 - val_loss: 1.0608 - val_accuracy: 0.6088\n",
            "Epoch 39/50\n",
            "449/449 [==============================] - 20s 44ms/step - loss: 1.0649 - accuracy: 0.5964 - val_loss: 1.0515 - val_accuracy: 0.6124\n",
            "Epoch 40/50\n",
            "449/449 [==============================] - 20s 44ms/step - loss: 1.0589 - accuracy: 0.5989 - val_loss: 1.0834 - val_accuracy: 0.5993\n",
            "Epoch 41/50\n",
            "449/449 [==============================] - 20s 44ms/step - loss: 1.0610 - accuracy: 0.5958 - val_loss: 1.0502 - val_accuracy: 0.6091\n",
            "Epoch 42/50\n",
            "449/449 [==============================] - 20s 44ms/step - loss: 1.0527 - accuracy: 0.5989 - val_loss: 1.0328 - val_accuracy: 0.6032\n",
            "Epoch 43/50\n",
            "449/449 [==============================] - 20s 44ms/step - loss: 1.0443 - accuracy: 0.6057 - val_loss: 1.0426 - val_accuracy: 0.6155\n",
            "Epoch 44/50\n",
            "449/449 [==============================] - 20s 44ms/step - loss: 1.0330 - accuracy: 0.6108 - val_loss: 1.0231 - val_accuracy: 0.6138\n",
            "Epoch 45/50\n",
            "449/449 [==============================] - 20s 44ms/step - loss: 1.0318 - accuracy: 0.6079 - val_loss: 1.0386 - val_accuracy: 0.6124\n",
            "Epoch 46/50\n",
            "449/449 [==============================] - 20s 44ms/step - loss: 1.0322 - accuracy: 0.6108 - val_loss: 1.0407 - val_accuracy: 0.6110\n",
            "Epoch 47/50\n",
            "449/449 [==============================] - 20s 44ms/step - loss: 1.0219 - accuracy: 0.6125 - val_loss: 1.0344 - val_accuracy: 0.6236\n",
            "Epoch 48/50\n",
            "449/449 [==============================] - 20s 45ms/step - loss: 1.0211 - accuracy: 0.6151 - val_loss: 1.0251 - val_accuracy: 0.6119\n",
            "Epoch 49/50\n",
            "449/449 [==============================] - 20s 46ms/step - loss: 1.0144 - accuracy: 0.6169 - val_loss: 1.0076 - val_accuracy: 0.6174\n",
            "Epoch 50/50\n",
            "449/449 [==============================] - 20s 45ms/step - loss: 1.0044 - accuracy: 0.6189 - val_loss: 1.0251 - val_accuracy: 0.6135\n"
          ]
        }
      ]
    },
    {
      "cell_type": "code",
      "metadata": {
        "id": "Mt_Ei-Kr-yrZ"
      },
      "source": [
        "# emotion_model=keras.models.load_model('final_model.h5')"
      ],
      "execution_count": null,
      "outputs": []
    },
    {
      "cell_type": "code",
      "metadata": {
        "id": "PhjxDIPwdaap"
      },
      "source": [
        "from IPython import display"
      ],
      "execution_count": null,
      "outputs": []
    },
    {
      "cell_type": "code",
      "metadata": {
        "id": "EabZ3gHKdWug"
      },
      "source": [
        "def show_emoji(x):\n",
        "  if x == 0:\n",
        "    img = display.Image(url = \"https://images.emojiterra.com/twitter/v13.0/512px/1f620.png\", width = 200)\n",
        "  elif x == 1:\n",
        "    img = display.Image(url = \"https://images.emojiterra.com/openmoji/v12.2/512px/1f922.png\", width = 250)\n",
        "  elif x == 2:\n",
        "    img = display.Image(url = \"https://images.emojiterra.com/google/android-11/512px/1f628.png\", width = 200)\n",
        "  elif x == 3:\n",
        "    img = display.Image(url = \"https://images.emojiterra.com/twitter/v13.0/512px/1f604.png\", width = 200)\n",
        "  elif x == 4:\n",
        "    img = display.Image(url = \"https://images.emojiterra.com/twitter/v13.0/512px/1f622.png\", width = 200)\n",
        "  elif x == 5:\n",
        "    img = display.Image(url = \"https://images.emojiterra.com/twitter/v13.0/512px/1f62f.png\", width = 200)\n",
        "  elif x == 6:\n",
        "    img = display.Image(url = \"https://images.emojiterra.com/twitter/v13.0/512px/1f610.png\", width = 200)\n",
        "\n",
        "  display.display(img)"
      ],
      "execution_count": null,
      "outputs": []
    },
    {
      "cell_type": "code",
      "metadata": {
        "colab": {
          "base_uri": "https://localhost:8080/"
        },
        "id": "BSFu1YYrbPSi",
        "outputId": "10fbd100-9249-4924-cf33-0bb4d6c9c05b"
      },
      "source": [
        "inputs = X_test[5].reshape(-1,48,48,1)\n",
        "# query the network\n",
        "predictions = emotion_model.predict(inputs)\n",
        "label = np.argmax(predictions)\n",
        "label"
      ],
      "execution_count": null,
      "outputs": [
        {
          "output_type": "execute_result",
          "data": {
            "text/plain": [
              "3"
            ]
          },
          "metadata": {},
          "execution_count": 21
        }
      ]
    },
    {
      "cell_type": "code",
      "metadata": {
        "id": "23jeWWq6XiHx",
        "colab": {
          "base_uri": "https://localhost:8080/",
          "height": 256
        },
        "outputId": "ef754b50-c631-4f73-c87d-ea460ad2f467"
      },
      "source": [
        "# test the neural network \n",
        "\n",
        "# record to test\n",
        "item = 50\n",
        "\n",
        "# plot image\n",
        "#plt.imshow(X_test[item].reshape(48,48), cmap='rainbow', interpolation='None')\n",
        "\n",
        "# correct answer is first value\n",
        "correct_label = label_to_text[np.argmax(y_test[item])]\n",
        "print(\"correct label : \", correct_label)\n",
        "# data is remaining values\n",
        "inputs = X_test[item].reshape(-1,48,48,1)\n",
        "# query the network\n",
        "predictions = emotion_model.predict(inputs)\n",
        "label = np.argmax(predictions)\n",
        "print(\"network says: \", label_to_text[label])\n",
        "show_emoji(np.argmax(y_test[item]))\n",
        "# append correct or incorrect to list\n",
        "if(correct_label==label_to_text[label]):\n",
        "  print(\"match!\")\n",
        "\n",
        "pass"
      ],
      "execution_count": null,
      "outputs": [
        {
          "output_type": "stream",
          "name": "stdout",
          "text": [
            "correct label :  anger\n",
            "network says:  happiness\n"
          ]
        },
        {
          "output_type": "display_data",
          "data": {
            "text/plain": [
              "<IPython.core.display.Image object>"
            ],
            "text/html": [
              "<img src=\"https://images.emojiterra.com/twitter/v13.0/512px/1f620.png\" width=\"200\"/>"
            ]
          },
          "metadata": {}
        }
      ]
    },
    {
      "cell_type": "code",
      "metadata": {
        "id": "XBVGpArkj-WW"
      },
      "source": [
        "from IPython import display"
      ],
      "execution_count": null,
      "outputs": []
    },
    {
      "cell_type": "code",
      "metadata": {
        "id": "jF8qSAYqLpRB"
      },
      "source": [
        "def show_emoji(x):\n",
        "  if x == 0:\n",
        "    img = display.Image(url = \"https://images.emojiterra.com/twitter/v13.0/512px/1f620.png\", width = 200)\n",
        "  elif x == 1:\n",
        "    img = display.Image(url = \"https://images.emojiterra.com/openmoji/v12.2/512px/1f922.png\", width = 250)\n",
        "  elif x == 2:\n",
        "    img = display.Image(url = \"https://images.emojiterra.com/google/android-11/512px/1f628.png\", width = 200)\n",
        "  elif x == 3:\n",
        "    img = display.Image(url = \"https://images.emojiterra.com/twitter/v13.0/512px/1f604.png\", width = 200)\n",
        "  elif x == 4:\n",
        "    img = display.Image(url = \"https://images.emojiterra.com/twitter/v13.0/512px/1f622.png\", width = 200)\n",
        "  elif x == 5:\n",
        "    img = display.Image(url = \"https://images.emojiterra.com/twitter/v13.0/512px/1f62f.png\", width = 200)\n",
        "  elif x == 6:\n",
        "    img = display.Image(url = \"https://images.emojiterra.com/twitter/v13.0/512px/1f610.png\", width = 200)\n",
        "\n",
        "  display.display(img)\n",
        "    \n"
      ],
      "execution_count": null,
      "outputs": []
    },
    {
      "cell_type": "code",
      "metadata": {
        "id": "P8bfmK3oLuG1",
        "colab": {
          "base_uri": "https://localhost:8080/",
          "height": 221
        },
        "outputId": "25198a35-79d7-4cf0-93e8-407f6a46ead2"
      },
      "source": [
        "show_emoji(2)"
      ],
      "execution_count": null,
      "outputs": [
        {
          "output_type": "display_data",
          "data": {
            "text/html": [
              "<img src=\"https://images.emojiterra.com/google/android-11/512px/1f628.png\" width=\"200\"/>"
            ],
            "text/plain": [
              "<IPython.core.display.Image object>"
            ]
          },
          "metadata": {}
        }
      ]
    },
    {
      "cell_type": "code",
      "metadata": {
        "id": "6NwWc6N9ZiMN",
        "colab": {
          "base_uri": "https://localhost:8080/",
          "height": 532
        },
        "outputId": "ea9bdc57-696c-475f-de3a-3934490da973"
      },
      "source": [
        "plt.figure()\n",
        "fig,(a1,a2)=plt.subplots(1,2,figsize=(19,8))\n",
        "\n",
        "a1.plot(emotion_model_info.history['loss'])\n",
        "a1.plot(emotion_model_info.history['val_loss'],)\n",
        "a1.legend(['Training loss', 'Validation loss'])\n",
        "a1.set(xlabel='Epochs',ylabel='Loss')\n",
        "\n",
        "a2.plot(emotion_model_info.history['accuracy'])\n",
        "a2.plot(emotion_model_info.history['val_accuracy'])\n",
        "a2.legend(['Training accuracy', 'Validation accuracy'])\n",
        "a2.set(xlabel='Epochs',ylabel='Loss')\n",
        "\n"
      ],
      "execution_count": null,
      "outputs": [
        {
          "output_type": "execute_result",
          "data": {
            "text/plain": [
              "[Text(0, 0.5, 'Loss'), Text(0.5, 0, 'Epochs')]"
            ]
          },
          "metadata": {},
          "execution_count": 28
        },
        {
          "output_type": "display_data",
          "data": {
            "text/plain": [
              "<Figure size 432x288 with 0 Axes>"
            ]
          },
          "metadata": {}
        },
        {
          "output_type": "display_data",
          "data": {
            "text/plain": [
              "<Figure size 1368x576 with 2 Axes>"
            ],
            "image/png": "[encoded data removed]"
          },
          "metadata": {
            "needs_background": "light"
          }
        }
      ]
    },
    {
      "cell_type": "code",
      "source": [
        "type(emotion_model.history)"
      ],
      "metadata": {
        "id": "tcSoURFmcmtf",
        "colab": {
          "base_uri": "https://localhost:8080/"
        },
        "outputId": "65a49b1a-f228-4fbf-ac20-6097bea22d87"
      },
      "execution_count": null,
      "outputs": [
        {
          "output_type": "execute_result",
          "data": {
            "text/plain": [
              "NoneType"
            ]
          },
          "metadata": {},
          "execution_count": 19
        }
      ]
    },
    {
      "cell_type": "code",
      "source": [
        ""
      ],
      "metadata": {
        "id": "qukT_cUMRDx1",
        "colab": {
          "base_uri": "https://localhost:8080/",
          "height": 300
        },
        "outputId": "cecb684c-bca9-4e17-811f-5c0906ba8f9e"
      },
      "execution_count": null,
      "outputs": [
        {
          "output_type": "execute_result",
          "data": {
            "text/plain": [
              "Text(0.5, 0, 'Epochs')"
            ]
          },
          "metadata": {},
          "execution_count": 2
        },
        {
          "output_type": "display_data",
          "data": {
            "text/plain": [
              "<Figure size 432x288 with 1 Axes>"
            ],
            "image/png": "[encoded data removed]"
          },
          "metadata": {
            "needs_background": "light"
          }
        }
      ]
    },
    {
      "cell_type": "code",
      "source": [
        ""
      ],
      "metadata": {
        "id": "eq5bJ8tRawxj"
      },
      "execution_count": null,
      "outputs": []
    }
  ]
}